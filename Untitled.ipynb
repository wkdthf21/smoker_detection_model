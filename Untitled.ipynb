{
 "cells": [
  {
   "cell_type": "markdown",
   "metadata": {},
   "source": [
    "###  Function of loading bounding box / width / height information"
   ]
  },
  {
   "cell_type": "code",
   "execution_count": null,
   "metadata": {},
   "outputs": [],
   "source": [
    "pip show maks-rcnn"
   ]
  },
  {
   "cell_type": "code",
   "execution_count": 8,
   "metadata": {},
   "outputs": [],
   "source": [
    "import os\n",
    "from PIL import Image\n",
    "\n",
    "RECT_PATH = os.getcwd() + \"\\\\data\\\\cigarette\\\\rect\"\n",
    "IMG_PATH = os.getcwd() + \"\\\\data\\\\cigarette\\\\image\"\n",
    "\n",
    "# os.getcwd + data/cigarette/rect"
   ]
  },
  {
   "cell_type": "code",
   "execution_count": null,
   "metadata": {},
   "outputs": [],
   "source": [
    "def extract_boxes(rect_filename, img_filename):\n",
    "    \n",
    "    boxes = list()\n",
    "    f = open(rect_filename, 'r')\n",
    "    line = f.readline()\n",
    "    line = line.replace(\"\\n\", \"\")\n",
    "    line = line.split(\" \")\n",
    "    \n",
    "    # 추가 : 바운딩박스 여러개\n",
    "    xmin = line[1]\n",
    "    ymin = line[2]\n",
    "    xmax = line[3]\n",
    "    ymax = line[4]\n",
    "    coors= [xmin, ymin, xmax, ymax]\n",
    "    boxes.append(coors)\n",
    "    \n",
    "    im = Image.open(img_filename)\n",
    "    width, height = im.size\n",
    "    \n",
    "    f.close()\n",
    "    \n",
    "    return boxes, width, height"
   ]
  },
  {
   "cell_type": "code",
   "execution_count": null,
   "metadata": {},
   "outputs": [],
   "source": [
    "extract_boxes(RECT_PATH + \"\\\\data075.txt\", IMG_PATH + \"\\\\data075.jpg\" )"
   ]
  },
  {
   "cell_type": "code",
   "execution_count": null,
   "metadata": {},
   "outputs": [],
   "source": []
  },
  {
   "cell_type": "code",
   "execution_count": 89,
   "metadata": {},
   "outputs": [],
   "source": [
    "from mrcnn.utils import Dataset\n",
    "from os import listdir\n",
    "from numpy import zeros\n",
    "from numpy import asarray\n",
    "from matplotlib import pyplot\n",
    "from mrcnn.visualize import display_instances\n",
    "from mrcnn.utils import extract_bboxes\n",
    "\n",
    "class CigaretteDataset(Dataset):\n",
    "    \n",
    "    def load_dataset(self,dataset_dir, is_train = True):\n",
    "        \n",
    "        self.add_class(\"dataset\", 1, \"cigarette\")\n",
    "        # ex ) dataset_dir = os.getcwd() + \"\\\\data\\\\cigarette\"\n",
    "        images_dir = dataset_dir + \"\\\\image\\\\\"\n",
    "        rect_dir = dataset_dir + \"\\\\rect\\\\\"\n",
    "        for filename in listdir(images_dir):\n",
    "            image_id = filename[4:7]\n",
    "            # skip all images after 150 if we are building the train set\n",
    "            if is_train and int(image_id) >= 150:\n",
    "                continue\n",
    "            # skip all images before 150 if we are building the test/val set\n",
    "            if not is_train and int(image_id) < 150:\n",
    "                continue    \n",
    "            \n",
    "        img_path = images_dir + filename\n",
    "        rect_path = rect_dir + filename.replace(\".jpg\", \"\") + '.txt'\n",
    "        \n",
    "        self.add_image('dataset', image_id=image_id, path=img_path, rect=rect_path)\n",
    "        \n",
    "    def convertToBoundingCoor(self, line, width, height):\n",
    "        \n",
    "        converted_line = list()\n",
    "        r_x = line[1]\n",
    "        r_y = line[2]\n",
    "        r_w = line[3]\n",
    "        r_h = line[4]\n",
    "        a_w = r_w * width\n",
    "        a_h = r_h * height\n",
    "        a_x = (r_x * width) - a_w/2\n",
    "        a_y = (r_y * height) - a_h / 2\n",
    "        converted_line = [a_x, a_y, a_w, a_h]\n",
    "        \n",
    "        return converted_line    \n",
    "    \n",
    "    def extract_boxes(self, rect_filename, img_filename):\n",
    "    \n",
    "        boxes = list()\n",
    "        f = open(rect_filename, 'r')\n",
    "        im = Image.open(img_filename)\n",
    "        width, height = im.size\n",
    "\n",
    "        while True:\n",
    "            \n",
    "            line = f.readline()\n",
    "            if not line : break\n",
    "            line = line.replace(\"\\n\", \"\")\n",
    "            line = line.split(\" \")\n",
    "            line = [float (i) for i in line]\n",
    "            line = self.convertToBoundingCoor(line, width, height)\n",
    "            xmin = line[0]\n",
    "            ymin = line[1]\n",
    "            xmax = line[0] + line[2]\n",
    "            ymax = line[1] + line[3]\n",
    "            coors= [int(xmin), int(ymin), xmax, ymax]\n",
    "            print(coors)\n",
    "            boxes.append(coors)\n",
    "\n",
    "        f.close()\n",
    "\n",
    "        return boxes, width, height\n",
    "    \n",
    "    def load_mask(self, imgae_id):\n",
    "        \n",
    "        info = self.image_info[image_id]\n",
    "        rect_path = info['rect']\n",
    "        img_path = info['path']\n",
    "        boxes, w, h = self.extract_boxes(rect_path, img_path)\n",
    "        \n",
    "        masks = zeros([h, w, len(boxes)], dtype = 'uint8')\n",
    "        \n",
    "        class_ids = list()\n",
    "        for i in range(len(boxes)):\n",
    "            box = boxes[i]\n",
    "            row_s, row_e = box[1], box[3]\n",
    "            col_s, col_e = box[0], box[2]\n",
    "            masks[row_s:row_e, col_s:col_e, i] = 1\n",
    "            class_ids.append(self.class_names.index('cigarette'))\n",
    "            \n",
    "        return masks, asarray(class_ids, dtype = 'int32')\n",
    "    \n",
    "    \n",
    "    def image_reference(self, image_id):\n",
    "        info = self.image_info[image_id]\n",
    "        return info['path']\n",
    "    \n",
    "\n",
    "        "
   ]
  },
  {
   "cell_type": "code",
   "execution_count": 90,
   "metadata": {},
   "outputs": [
    {
     "name": "stdout",
     "output_type": "stream",
     "text": [
      "Train: 1\n",
      "Test: 1\n"
     ]
    }
   ],
   "source": [
    "train_set = CigaretteDataset()\n",
    "train_set.load_dataset(os.getcwd() + \"\\\\data\\\\cigarette\", is_train=True)\n",
    "train_set.prepare()\n",
    "print('Train: %d' %len(train_set.image_ids))\n",
    "\n",
    "test_set = CigaretteDataset()\n",
    "test_set.load_dataset(os.getcwd() + \"\\\\data\\\\cigarette\", is_train=False)\n",
    "test_set.prepare()\n",
    "print('Test: %d' % len(test_set.image_ids))"
   ]
  },
  {
   "cell_type": "code",
   "execution_count": 91,
   "metadata": {},
   "outputs": [
    {
     "name": "stdout",
     "output_type": "stream",
     "text": [
      "(682, 1024, 3)\n",
      "[310.4, 82.40810599999998, 773.600256, 664.002702]\n"
     ]
    },
    {
     "ename": "TypeError",
     "evalue": "slice indices must be integers or None or have an __index__ method",
     "output_type": "error",
     "traceback": [
      "\u001b[1;31m---------------------------------------------------------------------------\u001b[0m",
      "\u001b[1;31mTypeError\u001b[0m                                 Traceback (most recent call last)",
      "\u001b[1;32m<ipython-input-91-6588064f4ade>\u001b[0m in \u001b[0;36m<module>\u001b[1;34m\u001b[0m\n\u001b[0;32m      4\u001b[0m \u001b[0mprint\u001b[0m\u001b[1;33m(\u001b[0m\u001b[0mimage\u001b[0m\u001b[1;33m.\u001b[0m\u001b[0mshape\u001b[0m\u001b[1;33m)\u001b[0m\u001b[1;33m\u001b[0m\u001b[1;33m\u001b[0m\u001b[0m\n\u001b[0;32m      5\u001b[0m \u001b[1;31m# load image mask\u001b[0m\u001b[1;33m\u001b[0m\u001b[1;33m\u001b[0m\u001b[1;33m\u001b[0m\u001b[0m\n\u001b[1;32m----> 6\u001b[1;33m \u001b[0mmask\u001b[0m\u001b[1;33m,\u001b[0m \u001b[0mclass_ids\u001b[0m \u001b[1;33m=\u001b[0m \u001b[0mtrain_set\u001b[0m\u001b[1;33m.\u001b[0m\u001b[0mload_mask\u001b[0m\u001b[1;33m(\u001b[0m\u001b[0mimage_id\u001b[0m\u001b[1;33m)\u001b[0m\u001b[1;33m\u001b[0m\u001b[1;33m\u001b[0m\u001b[0m\n\u001b[0m\u001b[0;32m      7\u001b[0m \u001b[0mprint\u001b[0m\u001b[1;33m(\u001b[0m\u001b[0mmask\u001b[0m\u001b[1;33m.\u001b[0m\u001b[0mshape\u001b[0m\u001b[1;33m)\u001b[0m\u001b[1;33m\u001b[0m\u001b[1;33m\u001b[0m\u001b[0m\n\u001b[0;32m      8\u001b[0m \u001b[1;31m# extract bounding boxes from the masks\u001b[0m\u001b[1;33m\u001b[0m\u001b[1;33m\u001b[0m\u001b[1;33m\u001b[0m\u001b[0m\n",
      "\u001b[1;32m<ipython-input-89-f1220c961a76>\u001b[0m in \u001b[0;36mload_mask\u001b[1;34m(self, imgae_id)\u001b[0m\n\u001b[0;32m     85\u001b[0m             \u001b[0mrow_s\u001b[0m\u001b[1;33m,\u001b[0m \u001b[0mrow_e\u001b[0m \u001b[1;33m=\u001b[0m \u001b[0mbox\u001b[0m\u001b[1;33m[\u001b[0m\u001b[1;36m1\u001b[0m\u001b[1;33m]\u001b[0m\u001b[1;33m,\u001b[0m \u001b[0mbox\u001b[0m\u001b[1;33m[\u001b[0m\u001b[1;36m3\u001b[0m\u001b[1;33m]\u001b[0m\u001b[1;33m\u001b[0m\u001b[1;33m\u001b[0m\u001b[0m\n\u001b[0;32m     86\u001b[0m             \u001b[0mcol_s\u001b[0m\u001b[1;33m,\u001b[0m \u001b[0mcol_e\u001b[0m \u001b[1;33m=\u001b[0m \u001b[0mbox\u001b[0m\u001b[1;33m[\u001b[0m\u001b[1;36m0\u001b[0m\u001b[1;33m]\u001b[0m\u001b[1;33m,\u001b[0m \u001b[0mbox\u001b[0m\u001b[1;33m[\u001b[0m\u001b[1;36m2\u001b[0m\u001b[1;33m]\u001b[0m\u001b[1;33m\u001b[0m\u001b[1;33m\u001b[0m\u001b[0m\n\u001b[1;32m---> 87\u001b[1;33m             \u001b[0mmasks\u001b[0m\u001b[1;33m[\u001b[0m\u001b[0mrow_s\u001b[0m\u001b[1;33m:\u001b[0m\u001b[0mrow_e\u001b[0m\u001b[1;33m,\u001b[0m \u001b[0mcol_s\u001b[0m\u001b[1;33m:\u001b[0m\u001b[0mcol_e\u001b[0m\u001b[1;33m,\u001b[0m \u001b[0mi\u001b[0m\u001b[1;33m]\u001b[0m \u001b[1;33m=\u001b[0m \u001b[1;36m1\u001b[0m\u001b[1;33m\u001b[0m\u001b[1;33m\u001b[0m\u001b[0m\n\u001b[0m\u001b[0;32m     88\u001b[0m             \u001b[0mclass_ids\u001b[0m\u001b[1;33m.\u001b[0m\u001b[0mappend\u001b[0m\u001b[1;33m(\u001b[0m\u001b[0mself\u001b[0m\u001b[1;33m.\u001b[0m\u001b[0mclass_names\u001b[0m\u001b[1;33m.\u001b[0m\u001b[0mindex\u001b[0m\u001b[1;33m(\u001b[0m\u001b[1;34m'cigarette'\u001b[0m\u001b[1;33m)\u001b[0m\u001b[1;33m)\u001b[0m\u001b[1;33m\u001b[0m\u001b[1;33m\u001b[0m\u001b[0m\n\u001b[0;32m     89\u001b[0m \u001b[1;33m\u001b[0m\u001b[0m\n",
      "\u001b[1;31mTypeError\u001b[0m: slice indices must be integers or None or have an __index__ method"
     ]
    }
   ],
   "source": [
    "# load an image\n",
    "image_id = 0\n",
    "image = train_set.load_image(image_id)\n",
    "print(image.shape)\n",
    "# load image mask\n",
    "mask, class_ids = train_set.load_mask(image_id)\n",
    "print(mask.shape)\n",
    "# extract bounding boxes from the masks\n",
    "bbox = extract_bboxes(mask)\n",
    "# display image with masks and bounding boxes\n",
    "display_instances(image, bbox, mask, class_ids, train_set.class_names)"
   ]
  },
  {
   "cell_type": "code",
   "execution_count": null,
   "metadata": {},
   "outputs": [],
   "source": []
  },
  {
   "cell_type": "code",
   "execution_count": null,
   "metadata": {},
   "outputs": [],
   "source": []
  }
 ],
 "metadata": {
  "kernelspec": {
   "display_name": "Python 3",
   "language": "python",
   "name": "python3"
  },
  "language_info": {
   "codemirror_mode": {
    "name": "ipython",
    "version": 3
   },
   "file_extension": ".py",
   "mimetype": "text/x-python",
   "name": "python",
   "nbconvert_exporter": "python",
   "pygments_lexer": "ipython3",
   "version": "3.7.3"
  }
 },
 "nbformat": 4,
 "nbformat_minor": 2
}
